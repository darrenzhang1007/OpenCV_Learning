{
 "cells": [
  {
   "cell_type": "code",
   "execution_count": 8,
   "metadata": {},
   "outputs": [],
   "source": [
    "import cv2"
   ]
  },
  {
   "cell_type": "markdown",
   "metadata": {},
   "source": [
    "```python\n",
    "retval = cv2.imread(filename, flags)\n",
    "```\n",
    "* filename: 图像的完整路径名\n",
    "* flags:\n",
    "    - `-1`: 保留原格式不变\n",
    "    - `0`: 将图像调整为单通道的灰度图像\n",
    "    - `1`: 1为默认值，将图像调整为3通道的BGR图像\n",
    "* retval:\n",
    "    - 如果读取到图像，返回值就是array类型的图像，\n",
    "    - 如果未读取到图像，返回值为None\n"
   ]
  },
  {
   "cell_type": "code",
   "execution_count": 9,
   "metadata": {},
   "outputs": [
    {
     "name": "stdout",
     "output_type": "stream",
     "text": [
      "<class 'numpy.ndarray'>\n",
      "(256, 256, 3)\n",
      "(256, 256)\n",
      "(512, 512, 4)\n",
      "(512, 512)\n"
     ]
    }
   ],
   "source": [
    "lena_gray = cv2.imread('../resource/lena.bmp')\n",
    "print(type(lena_gray))  # numpy array\n",
    "print(lena_gray.shape)  # (256, 256, 3)\n",
    "\n",
    "lena_gray_origin = cv2.imread('../resource/lena.bmp', -1)\n",
    "print(lena_gray_origin.shape)  # (256, 256)\n",
    "\n",
    "lena_color = cv2.imread('../resource/lena.png', -1)\n",
    "print(lena_color.shape)  # (512, 512, 4)\n",
    "\n",
    "lena_gray_1 = cv2.imread('../resource/lena.png', 0)\n",
    "print(lena_gray_1.shape)  # (512, 512)"
   ]
  },
  {
   "cell_type": "code",
   "execution_count": 10,
   "metadata": {},
   "outputs": [
    {
     "name": "stdout",
     "output_type": "stream",
     "text": [
      "97\n",
      "97\n"
     ]
    }
   ],
   "source": [
    "cv2.namedWindow('lena')\n",
    "cv2.imshow('lena', lena_color)\n",
    "key = cv2.waitKey()\n",
    "print(key)\n",
    "print(ord('a'))\n",
    "if key == ord('a'):\n",
    "    cv2.imshow('PressA', lena_color)\n",
    "    cv2.waitKey()\n",
    "    cv2.destroyWindow('PressA')  # 销毁所有窗口\n",
    "elif key == ord('b'):\n",
    "    cv2.imshow('PressB', lena_color)\n",
    "    cv2.waitKey()\n",
    "    cv2.destroyWindow('PressB')  # 销毁所有窗口"
   ]
  },
  {
   "cell_type": "code",
   "execution_count": 11,
   "metadata": {},
   "outputs": [
    {
     "name": "stdout",
     "output_type": "stream",
     "text": [
      "触发了按键\n"
     ]
    }
   ],
   "source": [
    "cv2.imshow('lena', lena_color)\n",
    "key=cv2.waitKey()\n",
    "\n",
    "# 程序暂停，cv2.waitKey()的默认参数为0，再未按下按键之前，程序会一直处于暂停状态\n",
    "if key != -1:\n",
    "    print(\"触发了按键\")\n",
    "    cv2.destroyAllWindows()  # 销毁所有窗口"
   ]
  },
  {
   "cell_type": "markdown",
   "metadata": {},
   "source": [
    "```python\n",
    "None = cv2.destoryWindow(winname)\n",
    "```\n",
    "* winname: 想要销毁的窗口名称\n",
    "\n",
    "通常与`cv2.waitKey()` 组合使用，实现窗口的释放"
   ]
  },
  {
   "cell_type": "code",
   "execution_count": 12,
   "metadata": {},
   "outputs": [],
   "source": [
    "cv2.imshow('lena', lena_color)\n",
    "cv2.waitKey()\n",
    "cv2.destroyWindow(\"lena\") # 销毁\"lena\"窗口"
   ]
  },
  {
   "cell_type": "markdown",
   "metadata": {},
   "source": [
    "```python\n",
    "None = cv2.destoryAllWindows()\n",
    "```\n",
    "释放所有的窗口"
   ]
  },
  {
   "cell_type": "code",
   "execution_count": 13,
   "metadata": {},
   "outputs": [],
   "source": [
    "cv2.destroyAllWindows()  # 销毁所有窗口\n"
   ]
  },
  {
   "cell_type": "code",
   "execution_count": 14,
   "metadata": {},
   "outputs": [
    {
     "name": "stdout",
     "output_type": "stream",
     "text": [
      "保存成功\n"
     ]
    }
   ],
   "source": [
    "r = cv2.imwrite(\"result.png\", lena_color)\n",
    "if r == True:\n",
    "    print(\"保存成功\")\n",
    "else:\n",
    "    print(\"保存失败\")"
   ]
  }
 ],
 "metadata": {
  "kernelspec": {
   "display_name": "Python 3.9.0 ('workspace')",
   "language": "python",
   "name": "python3"
  },
  "language_info": {
   "codemirror_mode": {
    "name": "ipython",
    "version": 3
   },
   "file_extension": ".py",
   "mimetype": "text/x-python",
   "name": "python",
   "nbconvert_exporter": "python",
   "pygments_lexer": "ipython3",
   "version": "3.9.0"
  },
  "orig_nbformat": 4,
  "vscode": {
   "interpreter": {
    "hash": "46af6f332f415868a261d682821b24d25bba721b7501827bd39450e59062453e"
   }
  }
 },
 "nbformat": 4,
 "nbformat_minor": 2
}
