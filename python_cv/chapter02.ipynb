{
 "cells": [
  {
   "cell_type": "markdown",
   "metadata": {},
   "source": [
    "`numpy.arrar`是python处理图像的基础\n"
   ]
  },
  {
   "cell_type": "markdown",
   "metadata": {},
   "source": [
    "## 2.1 图像的基本表示方法 && 2.2 像素处理\n",
    "- 二值图像 (0 or 1)\n",
    "- 灰度图像(0 ~ 255)\n",
    "- 彩色图像"
   ]
  },
  {
   "cell_type": "code",
   "execution_count": 2,
   "metadata": {},
   "outputs": [
    {
     "name": "stdout",
     "output_type": "stream",
     "text": [
      "img = \n",
      " [[0 0 0 0 0 0 0 0]\n",
      " [0 0 0 0 0 0 0 0]\n",
      " [0 0 0 0 0 0 0 0]\n",
      " [0 0 0 0 0 0 0 0]\n",
      " [0 0 0 0 0 0 0 0]\n",
      " [0 0 0 0 0 0 0 0]\n",
      " [0 0 0 0 0 0 0 0]\n",
      " [0 0 0 0 0 0 0 0]]\n",
      "读取像素点img[0, 3] =  0\n",
      "\n",
      "修改后img = \n",
      " [[  0   0   0 255   0   0   0   0]\n",
      " [  0   0   0   0   0   0   0   0]\n",
      " [  0   0   0   0   0   0   0   0]\n",
      " [  0   0   0   0   0   0   0   0]\n",
      " [  0   0   0   0   0   0   0   0]\n",
      " [  0   0   0   0   0   0   0   0]\n",
      " [  0   0   0   0   0   0   0   0]\n",
      " [  0   0   0   0   0   0   0   0]]\n",
      "读取像素点img[0, 3] =  255\n"
     ]
    }
   ],
   "source": [
    "import cv2 as cv\n",
    "import numpy as np\n",
    "\n",
    "img = np.zeros((8, 8), dtype=np.uint8)\n",
    "print(\"img = \\n\", img)\n",
    "\n",
    "cv.imshow(\"one\", img)\n",
    "print(\"读取像素点img[0, 3] = \", img[0, 3])\n",
    "img[0, 3] = 255\n",
    "\n",
    "print(\"\\n修改后img = \\n\", img)\n",
    "print(\"读取像素点img[0, 3] = \", img[0, 3])\n",
    "\n",
    "cv.imshow(\"two\", img)\n",
    "cv.waitKey()\n",
    "cv.destroyAllWindows()\n"
   ]
  },
  {
   "cell_type": "code",
   "execution_count": 3,
   "metadata": {},
   "outputs": [],
   "source": [
    "img = cv.imread(\"../resource/lena.bmp\", 0)\n",
    "\n",
    "cv.imshow(\"before\", img)\n",
    "\n",
    "for i in range(10, 100):\n",
    "    for j in range(80, 100):\n",
    "        img[i, j] = 255\n",
    "\n",
    "cv.imshow(\"after\", img)\n",
    "cv.waitKey()\n",
    "cv.destroyAllWindows()\n"
   ]
  },
  {
   "cell_type": "code",
   "execution_count": 4,
   "metadata": {},
   "outputs": [
    {
     "name": "stdout",
     "output_type": "stream",
     "text": [
      "blue = \n",
      " [[[255   0   0]\n",
      "  [255   0   0]\n",
      "  [255   0   0]\n",
      "  ...\n",
      "  [255   0   0]\n",
      "  [255   0   0]\n",
      "  [255   0   0]]\n",
      "\n",
      " [[255   0   0]\n",
      "  [255   0   0]\n",
      "  [255   0   0]\n",
      "  ...\n",
      "  [255   0   0]\n",
      "  [255   0   0]\n",
      "  [255   0   0]]\n",
      "\n",
      " [[255   0   0]\n",
      "  [255   0   0]\n",
      "  [255   0   0]\n",
      "  ...\n",
      "  [255   0   0]\n",
      "  [255   0   0]\n",
      "  [255   0   0]]\n",
      "\n",
      " ...\n",
      "\n",
      " [[255   0   0]\n",
      "  [255   0   0]\n",
      "  [255   0   0]\n",
      "  ...\n",
      "  [255   0   0]\n",
      "  [255   0   0]\n",
      "  [255   0   0]]\n",
      "\n",
      " [[255   0   0]\n",
      "  [255   0   0]\n",
      "  [255   0   0]\n",
      "  ...\n",
      "  [255   0   0]\n",
      "  [255   0   0]\n",
      "  [255   0   0]]\n",
      "\n",
      " [[255   0   0]\n",
      "  [255   0   0]\n",
      "  [255   0   0]\n",
      "  ...\n",
      "  [255   0   0]\n",
      "  [255   0   0]\n",
      "  [255   0   0]]]\n",
      "green = \n",
      " [[[  0 255   0]\n",
      "  [  0 255   0]\n",
      "  [  0 255   0]\n",
      "  ...\n",
      "  [  0 255   0]\n",
      "  [  0 255   0]\n",
      "  [  0 255   0]]\n",
      "\n",
      " [[  0 255   0]\n",
      "  [  0 255   0]\n",
      "  [  0 255   0]\n",
      "  ...\n",
      "  [  0 255   0]\n",
      "  [  0 255   0]\n",
      "  [  0 255   0]]\n",
      "\n",
      " [[  0 255   0]\n",
      "  [  0 255   0]\n",
      "  [  0 255   0]\n",
      "  ...\n",
      "  [  0 255   0]\n",
      "  [  0 255   0]\n",
      "  [  0 255   0]]\n",
      "\n",
      " ...\n",
      "\n",
      " [[  0 255   0]\n",
      "  [  0 255   0]\n",
      "  [  0 255   0]\n",
      "  ...\n",
      "  [  0 255   0]\n",
      "  [  0 255   0]\n",
      "  [  0 255   0]]\n",
      "\n",
      " [[  0 255   0]\n",
      "  [  0 255   0]\n",
      "  [  0 255   0]\n",
      "  ...\n",
      "  [  0 255   0]\n",
      "  [  0 255   0]\n",
      "  [  0 255   0]]\n",
      "\n",
      " [[  0 255   0]\n",
      "  [  0 255   0]\n",
      "  [  0 255   0]\n",
      "  ...\n",
      "  [  0 255   0]\n",
      "  [  0 255   0]\n",
      "  [  0 255   0]]]\n",
      "red = \n",
      " [[[  0   0 255]\n",
      "  [  0   0 255]\n",
      "  [  0   0 255]\n",
      "  ...\n",
      "  [  0   0 255]\n",
      "  [  0   0 255]\n",
      "  [  0   0 255]]\n",
      "\n",
      " [[  0   0 255]\n",
      "  [  0   0 255]\n",
      "  [  0   0 255]\n",
      "  ...\n",
      "  [  0   0 255]\n",
      "  [  0   0 255]\n",
      "  [  0   0 255]]\n",
      "\n",
      " [[  0   0 255]\n",
      "  [  0   0 255]\n",
      "  [  0   0 255]\n",
      "  ...\n",
      "  [  0   0 255]\n",
      "  [  0   0 255]\n",
      "  [  0   0 255]]\n",
      "\n",
      " ...\n",
      "\n",
      " [[  0   0 255]\n",
      "  [  0   0 255]\n",
      "  [  0   0 255]\n",
      "  ...\n",
      "  [  0   0 255]\n",
      "  [  0   0 255]\n",
      "  [  0   0 255]]\n",
      "\n",
      " [[  0   0 255]\n",
      "  [  0   0 255]\n",
      "  [  0   0 255]\n",
      "  ...\n",
      "  [  0   0 255]\n",
      "  [  0   0 255]\n",
      "  [  0   0 255]]\n",
      "\n",
      " [[  0   0 255]\n",
      "  [  0   0 255]\n",
      "  [  0   0 255]\n",
      "  ...\n",
      "  [  0   0 255]\n",
      "  [  0   0 255]\n",
      "  [  0   0 255]]]\n"
     ]
    }
   ],
   "source": [
    "# 蓝色通道值\n",
    "blue = np.zeros((300, 300, 3), dtype=np.uint8)\n",
    "blue[:, :, 0] = 255\n",
    "\n",
    "print(\"blue = \\n\", blue)\n",
    "cv.imshow(\"blue\", blue)\n",
    "\n",
    "# 绿色通道值\n",
    "green = np.zeros((300, 300, 3), dtype=np.uint8)\n",
    "green[:, :, 1] = 255\n",
    "\n",
    "print(\"green = \\n\", green)\n",
    "cv.imshow(\"green\", green)\n",
    "\n",
    "# 红色通道值\n",
    "red = np.zeros((300, 300, 3), dtype=np.uint8)\n",
    "red[:, :, 2] = 255\n",
    "\n",
    "print(\"red = \\n\", red)\n",
    "cv.imshow(\"red\", red)\n",
    "\n",
    "cv.waitKey()\n",
    "cv.destroyAllWindows()\n"
   ]
  },
  {
   "cell_type": "code",
   "execution_count": 5,
   "metadata": {},
   "outputs": [],
   "source": [
    "img = np.zeros((300, 300, 3), dtype=np.uint8)\n",
    "img[:, 0:100, 0] = 255\n",
    "img[:, 100:200, 1] = 255\n",
    "img[:, 200:300, 2] = 255\n",
    "\n",
    "cv.imshow(\"img\", img)\n",
    "cv.waitKey()\n",
    "cv.destroyAllWindows()\n"
   ]
  },
  {
   "cell_type": "code",
   "execution_count": 6,
   "metadata": {},
   "outputs": [
    {
     "name": "stdout",
     "output_type": "stream",
     "text": [
      "img = \n",
      " [[[0 0 0]\n",
      "  [0 0 0]\n",
      "  [0 0 0]\n",
      "  [0 0 0]]\n",
      "\n",
      " [[0 0 0]\n",
      "  [0 0 0]\n",
      "  [0 0 0]\n",
      "  [0 0 0]]]\n",
      "img[0, 3] =  [0 0 0]\n",
      "img[1, 2, 2] =  0\n",
      "img = \n",
      " [[[ 66  77  88]\n",
      "  [  0   0   0]\n",
      "  [  5   0   0]\n",
      "  [255 255 255]]\n",
      "\n",
      " [[  0   0   0]\n",
      "  [  0   3   0]\n",
      "  [  0   0   4]\n",
      "  [  0   0   0]]]\n",
      "img[1, 2, 2] =  4\n"
     ]
    }
   ],
   "source": [
    "img = np.zeros((2, 4, 3), np.uint8)\n",
    "print(\"img = \\n\", img)\n",
    "\n",
    "print(\"img[0, 3] = \", img[0, 3])\n",
    "print(\"img[1, 2, 2] = \", img[1, 2, 2])\n",
    "img[0, 3] = 255  # 第0行 第3列 的BGR通道的三个像素点\n",
    "img[0, 0] = [66, 77, 88]  # 第0行 第0列 的BGR三个像素点\n",
    "img[1, 1, 1] = 3\n",
    "img[1, 2, 2] = 4\n",
    "img[0, 2, 0] = 5\n",
    "print(\"img = \\n\", img)\n",
    "print(\"img[1, 2, 2] = \", img[1, 2, 2])\n"
   ]
  },
  {
   "cell_type": "code",
   "execution_count": 7,
   "metadata": {},
   "outputs": [
    {
     "name": "stdout",
     "output_type": "stream",
     "text": [
      "访问img[0,0]= [123 154 218]\n",
      "访问img[0,0,0]= 123\n",
      "访问img[0,0,1]= 154\n",
      "访问img[0,0,2]= 218\n",
      "访问img[50,0]= [106 153 223]\n",
      "访问img[100,0]= [ 42  57 119]\n",
      "修改后img[0,0]= [255 255 255]\n",
      "修改后img[0,0,0]= 255\n",
      "修改后img[0,0,1]= 255\n",
      "修改后img[0,0,2]= 255\n",
      "修改后img[50,0]= [128 128 128]\n",
      "修改后img[100,0]= [0 0 0]\n"
     ]
    }
   ],
   "source": [
    "img = cv.imread(\"../resource/lena.png\")\n",
    "cv.imshow(\"before\", img)\n",
    "\n",
    "print(\"访问img[0,0]=\", img[0, 0])\n",
    "print(\"访问img[0,0,0]=\", img[0, 0, 0])\n",
    "print(\"访问img[0,0,1]=\", img[0, 0, 1])\n",
    "print(\"访问img[0,0,2]=\", img[0, 0, 2])\n",
    "print(\"访问img[50,0]=\", img[50, 0])\n",
    "print(\"访问img[100,0]=\", img[100, 0])\n",
    "\n",
    "# 区域1\n",
    "for i in range(0, 50):\n",
    "    for j in range(0, 100):\n",
    "        for k in range(0, 3):\n",
    "            img[i, j, k] = 255  # 白色\n",
    "\n",
    "# 区域2\n",
    "for i in range(50, 100):\n",
    "    for j in range(0, 100):\n",
    "        img[i, j] = [128, 128, 128]  # 灰色\n",
    "\n",
    "# 区域3\n",
    "for i in range(100, 150):\n",
    "    for j in range(0, 100):\n",
    "        img[i, j] = 0  # 黑色\n",
    "\n",
    "cv.imshow(\"after\", img)\n",
    "\n",
    "print(\"修改后img[0,0]=\", img[0, 0])\n",
    "print(\"修改后img[0,0,0]=\", img[0, 0, 0])\n",
    "print(\"修改后img[0,0,1]=\", img[0, 0, 1])\n",
    "print(\"修改后img[0,0,2]=\", img[0, 0, 2])\n",
    "print(\"修改后img[50,0]=\", img[50, 0])\n",
    "print(\"修改后img[100,0]=\", img[100, 0])\n",
    "\n",
    "cv.waitKey()\n",
    "cv.destroyAllWindows()\n"
   ]
  },
  {
   "cell_type": "markdown",
   "metadata": {},
   "source": [
    "## 2.3 使用np.array访问像素\n",
    "\n",
    "item() 和 itemset() 函数来访问和修改像素值，而且这两个函数经过了优化处理，能够大幅度提升处理效率\n",
    "\n",
    "访问及修改像素点时，使用np.array提供的函数要比直接索引快\n",
    "\n",
    "- item(col, row): 高效地访问图像的像素点\n",
    "\n",
    "- itemset(索引值, 新值): 修改像素值"
   ]
  },
  {
   "cell_type": "code",
   "execution_count": 8,
   "metadata": {},
   "outputs": [
    {
     "name": "stdout",
     "output_type": "stream",
     "text": [
      "img = \n",
      " [[47 58 26 24 37]\n",
      " [85 11 67 32 39]\n",
      " [34 64 47 75 59]\n",
      " [56 77 17 42 64]\n",
      " [27 52 28 91 63]]\n",
      "读取像素点img.item(3, 2) = 17\n",
      "修改后img=\n",
      " [[ 47  58  26  24  37]\n",
      " [ 85  11  67  32  39]\n",
      " [ 34  64  47  75  59]\n",
      " [ 56  77 255  42  64]\n",
      " [ 27  52  28  91  63]]\n",
      "修改后像素点img.item(3, 2) = 255\n"
     ]
    }
   ],
   "source": [
    "img = np.random.randint(10, 99, size=(5, 5), dtype=np.uint8)\n",
    "print(\"img = \\n\", img)\n",
    "print(\"读取像素点img.item(3, 2) =\", img.item(3, 2))\n",
    "\n",
    "img.itemset((3, 2), 255)\n",
    "print(\"修改后img=\\n\", img)\n",
    "print(\"修改后像素点img.item(3, 2) =\", img.item(3, 2))\n"
   ]
  },
  {
   "cell_type": "code",
   "execution_count": 9,
   "metadata": {},
   "outputs": [],
   "source": [
    "# 生成一个灰度图像,像素值均为随机数\n",
    "img = np.random.randint(0, 256, size=[512, 512], dtype=np.uint8)\n",
    "cv.imshow(\"demo\", img)\n",
    "cv.waitKey()\n",
    "cv.destroyAllWindows()\n"
   ]
  },
  {
   "cell_type": "code",
   "execution_count": 10,
   "metadata": {},
   "outputs": [
    {
     "name": "stdout",
     "output_type": "stream",
     "text": [
      "读取像素点img.item(3, 2) = 159\n",
      "修改后像素点img.item(3, 2) = 255\n"
     ]
    }
   ],
   "source": [
    "img = cv.imread(\"../resource/lena.bmp\", 0)\n",
    "\n",
    "# 测试读取、修改单个像素值\n",
    "print(\"读取像素点img.item(3, 2) =\", img.item(3, 2))\n",
    "img.itemset((3, 2), 255)\n",
    "print(\"修改后像素点img.item(3, 2) =\", img.item(3, 2))\n",
    "\n",
    "# 测试修改一个区域的像素值\n",
    "cv.imshow(\"before\", img)\n",
    "for i in range(10, 100):\n",
    "    for j in range(80, 100):\n",
    "        img.itemset((i, j), 255)\n",
    "\n",
    "cv.imshow(\"after\", img)\n",
    "cv.waitKey()\n",
    "cv.destroyAllWindows()\n"
   ]
  },
  {
   "cell_type": "markdown",
   "metadata": {},
   "source": [
    "- item 和 itemset() 也可访问和修改彩色图像的像素值,不同之处在于需要补充通道信息\n",
    "\n",
    "针对RGB图像的访问,必须同时指定行\\列\\通道\n",
    "```python\n",
    "item(行, 列, 通道)\n",
    "\n",
    "itemset(三元组索引值, 新值)\n",
    "```"
   ]
  },
  {
   "cell_type": "code",
   "execution_count": 11,
   "metadata": {},
   "outputs": [
    {
     "name": "stdout",
     "output_type": "stream",
     "text": [
      "img = \n",
      " [[[30 16 69]\n",
      "  [72 42 66]\n",
      "  [46 73 41]\n",
      "  [35 17 45]]\n",
      "\n",
      " [[59 66 88]\n",
      "  [77 86 79]\n",
      "  [61 64 31]\n",
      "  [31 15 73]]]\n",
      "读取像素点img[1, 2, 0] = 61\n",
      "读取像素点img[0, 2, 1] = 73\n",
      "读取像素点img[1, 0, 2] = 88\n",
      "修改后img = \n",
      " [[[ 30  16  69]\n",
      "  [ 72  42  66]\n",
      "  [ 46 255  41]\n",
      "  [ 35  17  45]]\n",
      "\n",
      " [[ 59  66 255]\n",
      "  [ 77  86  79]\n",
      "  [255  64  31]\n",
      "  [ 31  15  73]]]\n",
      "修改后像素点img[1,2,0] = 255\n",
      "修改后像素点img[0,2,1] = 255\n",
      "修改后像素点img[1,0,2] = 255\n"
     ]
    }
   ],
   "source": [
    "img = np.random.randint(10, 99, size=[2, 4, 3], dtype=np.uint8)\n",
    "print(\"img = \\n\", img)\n",
    "print(\"读取像素点img[1, 2, 0] =\", img.item(1, 2, 0))\n",
    "print(\"读取像素点img[0, 2, 1] =\", img.item(0, 2, 1))\n",
    "print(\"读取像素点img[1, 0, 2] =\", img.item(1, 0, 2))\n",
    "\n",
    "img.itemset((1, 2, 0), 255)\n",
    "img.itemset((0, 2, 1), 255)\n",
    "img.itemset((1, 0, 2), 255)\n",
    "print(\"修改后img = \\n\", img)\n",
    "print(\"修改后像素点img[1,2,0] =\", img.item(1, 2, 0))\n",
    "print(\"修改后像素点img[0,2,1] =\", img.item(0, 2, 1))\n",
    "print(\"修改后像素点img[1,0,2] =\", img.item(1, 0, 2))\n"
   ]
  },
  {
   "cell_type": "code",
   "execution_count": 12,
   "metadata": {},
   "outputs": [],
   "source": [
    "img = np.random.randint(0, 256, size=[256, 256, 3], dtype=np.uint8)\n",
    "cv.imshow(\"demo\", img)\n",
    "cv.waitKey()\n",
    "cv.destroyAllWindows()\n"
   ]
  },
  {
   "cell_type": "code",
   "execution_count": 13,
   "metadata": {},
   "outputs": [
    {
     "name": "stdout",
     "output_type": "stream",
     "text": [
      "访问img.item(0,0,0)= 123\n",
      "访问img.item(0,0,1)= 154\n",
      "访问img.item(0,0,2)= 218\n",
      "修改后img.item(0,0,0)= 255\n",
      "修改后img.item(0,0,1)= 255\n",
      "修改后img.item(0,0,2)= 255\n"
     ]
    }
   ],
   "source": [
    "img = cv.imread(\"../resource/lena.png\")\n",
    "cv.imshow(\"before\", img)\n",
    "print(\"访问img.item(0,0,0)=\", img.item(0, 0, 0))\n",
    "print(\"访问img.item(0,0,1)=\", img.item(0, 0, 1))\n",
    "print(\"访问img.item(0,0,2)=\", img.item(0, 0, 2))\n",
    "\n",
    "for i in range(0, 50):\n",
    "    for j in range(0, 100):\n",
    "        for k in range(0, 3):\n",
    "            img.itemset((i, j, k), 255)  # 白色\n",
    "cv.imshow(\"after\", img)\n",
    "\n",
    "print(\"修改后img.item(0,0,0)=\", img.item(0, 0, 0))\n",
    "print(\"修改后img.item(0,0,1)=\", img.item(0, 0, 1))\n",
    "print(\"修改后img.item(0,0,2)=\", img.item(0, 0, 2))\n",
    "\n",
    "cv.waitKey()\n",
    "cv.destroyAllWindows()"
   ]
  },
  {
   "cell_type": "markdown",
   "metadata": {},
   "source": [
    "## 2.4 ROI\n",
    "\n",
    "针对图像的某一特定的区域感兴趣,被称为感兴趣区域(Region of Interest, ROI). 设定ROI后, 可以针对该区域进行整体操作."
   ]
  },
  {
   "cell_type": "code",
   "execution_count": 14,
   "metadata": {},
   "outputs": [],
   "source": [
    "# 提取lena的face ROI\n",
    "img = cv.imread(\"../resource/lena.png\")\n",
    "cv.imshow(\"lena.png\", img)\n",
    "\n",
    "face = img[200:400, 250:350]\n",
    "\n",
    "cv.imshow(\"face.png\", face)\n",
    "cv.waitKey()\n",
    "cv.destroyAllWindows()"
   ]
  },
  {
   "cell_type": "code",
   "execution_count": 15,
   "metadata": {},
   "outputs": [],
   "source": [
    "# 对face 打马\n",
    "face = np.random.randint(0, 256, (180, 100, 3))\n",
    "img[220: 400, 250:350] = face\n",
    "\n",
    "cv.imshow(\"result\", img)\n",
    "cv.waitKey()\n",
    "cv.destroyAllWindows()"
   ]
  },
  {
   "cell_type": "code",
   "execution_count": 16,
   "metadata": {},
   "outputs": [],
   "source": [
    "lena = cv.imread(\"../resource/lena.png\")\n",
    "dollor = cv.imread(\"../resource/dollor.bmp\")\n",
    "cv.imshow(\"dollor\", dollor)\n",
    "cv.imshow(\"lena\", lena)\n",
    "\n",
    "lena_face = lena[220:400, 250:350]\n",
    "dollor[160:340, 200:300] = lena_face\n",
    "\n",
    "cv.imshow(\"result\", dollor)\n",
    "cv.waitKey()\n",
    "cv.destroyAllWindows()\n"
   ]
  },
  {
   "cell_type": "markdown",
   "metadata": {},
   "source": [
    "## 2.5 通道操作\n",
    "在OpenCV中, 是按照 B  G  R 通道存储的"
   ]
  },
  {
   "cell_type": "code",
   "execution_count": 17,
   "metadata": {},
   "outputs": [],
   "source": [
    "lena = cv.imread(\"../resource/lena.png\")\n",
    "cv.imshow(\"lena1\", lena)\n",
    "b = lena[:, :, 0]  # B 通道\n",
    "g = lena[:, :, 1]  # G 通道\n",
    "r = lena[:, :, 2]  # R 通道\n",
    "cv.imshow(\"b\", b)\n",
    "cv.imshow(\"g\", g)\n",
    "cv.imshow(\"r\", r)\n",
    "\n",
    "lena[:, :, 0] = 0  # 将B通道设置为0\n",
    "cv.imshow(\"lenab0\", lena)\n",
    "\n",
    "lena[:, :, 1] = 0  # 将G通道设置为0\n",
    "cv.imshow(\"lenab0g0\", lena)\n",
    "\n",
    "cv.waitKey()\n",
    "cv.destroyAllWindows()\n"
   ]
  },
  {
   "cell_type": "code",
   "execution_count": 19,
   "metadata": {},
   "outputs": [],
   "source": [
    "lena_color = cv.imread(\"../resource/lena.png\")\n",
    "\n",
    "b, g, r = cv.split(lena_color)\n",
    "\n",
    "cv.imshow(\"B\", b)\n",
    "cv.imshow(\"G\", g)\n",
    "cv.imshow(\"R\", r)\n",
    "\n",
    "cv.waitKey()\n",
    "cv.destroyAllWindows()\n"
   ]
  },
  {
   "cell_type": "code",
   "execution_count": 21,
   "metadata": {},
   "outputs": [],
   "source": [
    "bgr = cv.merge([b, g, r])\n",
    "rgb = cv.merge([r, g, b])\n",
    "\n",
    "cv.imshow(\"lena\", lena_color)\n",
    "cv.imshow(\"bgr\", bgr)\n",
    "cv.imshow(\"rgb\", rgb)\n",
    "\n",
    "cv.waitKey()\n",
    "cv.destroyAllWindows()\n"
   ]
  },
  {
   "cell_type": "markdown",
   "metadata": {},
   "source": [
    "## 2.6 获取图像属性\n",
    "* shape: 如果是彩色图像: 返回行, 列, 通道数；如果是灰度图像:返回行, 列\n",
    "* size: 返回图像的像素数目. 值 = 行 * 列 * 通道数\n",
    "* dtype: 返回图像的数据类型"
   ]
  },
  {
   "cell_type": "code",
   "execution_count": 23,
   "metadata": {},
   "outputs": [
    {
     "name": "stdout",
     "output_type": "stream",
     "text": [
      "图像gray属性：\n",
      "gray.shape = (256, 256)\n",
      "gray.size = 65536\n",
      "gray.dtype = uint8\n",
      "图像color属性：\n",
      "color.shape = (512, 512, 3)\n",
      "color.size = 786432\n",
      "color.dtype = uint8\n"
     ]
    }
   ],
   "source": [
    "gray = cv.imread(\"../resource/lena.bmp\", 0)\n",
    "print(\"图像gray属性：\")\n",
    "print(\"gray.shape =\", gray.shape)\n",
    "print(\"gray.size =\", gray.size)\n",
    "print(\"gray.dtype =\", gray.dtype)\n",
    "\n",
    "color = cv.imread(\"../resource/lena.png\")\n",
    "print(\"图像color属性：\")\n",
    "print(\"color.shape =\", color.shape)\n",
    "print(\"color.size =\", color.size)\n",
    "print(\"color.dtype =\", color.dtype)\n"
   ]
  },
  {
   "cell_type": "code",
   "execution_count": null,
   "metadata": {},
   "outputs": [],
   "source": []
  }
 ],
 "metadata": {
  "kernelspec": {
   "display_name": "Python 3.9.0 ('workspace')",
   "language": "python",
   "name": "python3"
  },
  "language_info": {
   "codemirror_mode": {
    "name": "ipython",
    "version": 3
   },
   "file_extension": ".py",
   "mimetype": "text/x-python",
   "name": "python",
   "nbconvert_exporter": "python",
   "pygments_lexer": "ipython3",
   "version": "3.9.0"
  },
  "orig_nbformat": 4,
  "vscode": {
   "interpreter": {
    "hash": "46af6f332f415868a261d682821b24d25bba721b7501827bd39450e59062453e"
   }
  }
 },
 "nbformat": 4,
 "nbformat_minor": 2
}
